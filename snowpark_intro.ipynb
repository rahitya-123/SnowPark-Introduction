{
  "nbformat": 4,
  "nbformat_minor": 0,
  "metadata": {
    "colab": {
      "provenance": [],
      "authorship_tag": "ABX9TyMdwUdnyHTqNAFz3cdDzlmB",
      "include_colab_link": true
    },
    "kernelspec": {
      "name": "python3",
      "display_name": "Python 3"
    },
    "language_info": {
      "name": "python"
    }
  },
  "cells": [
    {
      "cell_type": "markdown",
      "metadata": {
        "id": "view-in-github",
        "colab_type": "text"
      },
      "source": [
        "<a href=\"https://colab.research.google.com/github/rahitya-123/SnowPark-Introduction/blob/main/snowpark_intro.ipynb\" target=\"_parent\"><img src=\"https://colab.research.google.com/assets/colab-badge.svg\" alt=\"Open In Colab\"/></a>"
      ]
    },
    {
      "cell_type": "code",
      "source": [
        "!pip install snowflake-snowpark-python\n",
        "from snowflake.snowpark.session import Session\n",
        "import snowflake.snowpark.functions as F\n",
        "from datetime import date"
      ],
      "metadata": {
        "colab": {
          "base_uri": "https://localhost:8080/"
        },
        "collapsed": true,
        "id": "TbGVFxHFiLFf",
        "outputId": "81068825-666f-4dbd-8285-e1e0bb1ad20f"
      },
      "execution_count": null,
      "outputs": [
        {
          "output_type": "stream",
          "name": "stdout",
          "text": [
            "Requirement already satisfied: snowflake-snowpark-python in /usr/local/lib/python3.10/dist-packages (1.23.0)\n",
            "Requirement already satisfied: setuptools>=40.6.0 in /usr/local/lib/python3.10/dist-packages (from snowflake-snowpark-python) (71.0.4)\n",
            "Requirement already satisfied: wheel in /usr/local/lib/python3.10/dist-packages (from snowflake-snowpark-python) (0.44.0)\n",
            "Requirement already satisfied: snowflake-connector-python<4.0.0,>=3.10.0 in /usr/local/lib/python3.10/dist-packages (from snowflake-snowpark-python) (3.12.2)\n",
            "Requirement already satisfied: typing-extensions<5.0.0,>=4.1.0 in /usr/local/lib/python3.10/dist-packages (from snowflake-snowpark-python) (4.12.2)\n",
            "Requirement already satisfied: pyyaml in /usr/local/lib/python3.10/dist-packages (from snowflake-snowpark-python) (6.0.2)\n",
            "Requirement already satisfied: cloudpickle!=2.1.0,!=2.2.0,<=2.2.1,>=1.6.0 in /usr/local/lib/python3.10/dist-packages (from snowflake-snowpark-python) (2.2.1)\n",
            "Requirement already satisfied: asn1crypto<2.0.0,>0.24.0 in /usr/local/lib/python3.10/dist-packages (from snowflake-connector-python<4.0.0,>=3.10.0->snowflake-snowpark-python) (1.5.1)\n",
            "Requirement already satisfied: cffi<2.0.0,>=1.9 in /usr/local/lib/python3.10/dist-packages (from snowflake-connector-python<4.0.0,>=3.10.0->snowflake-snowpark-python) (1.17.1)\n",
            "Requirement already satisfied: cryptography>=3.1.0 in /usr/local/lib/python3.10/dist-packages (from snowflake-connector-python<4.0.0,>=3.10.0->snowflake-snowpark-python) (43.0.1)\n",
            "Requirement already satisfied: pyOpenSSL<25.0.0,>=16.2.0 in /usr/local/lib/python3.10/dist-packages (from snowflake-connector-python<4.0.0,>=3.10.0->snowflake-snowpark-python) (24.2.1)\n",
            "Requirement already satisfied: pyjwt<3.0.0 in /usr/local/lib/python3.10/dist-packages (from snowflake-connector-python<4.0.0,>=3.10.0->snowflake-snowpark-python) (2.9.0)\n",
            "Requirement already satisfied: pytz in /usr/local/lib/python3.10/dist-packages (from snowflake-connector-python<4.0.0,>=3.10.0->snowflake-snowpark-python) (2024.2)\n",
            "Requirement already satisfied: requests<3.0.0 in /usr/local/lib/python3.10/dist-packages (from snowflake-connector-python<4.0.0,>=3.10.0->snowflake-snowpark-python) (2.32.3)\n",
            "Requirement already satisfied: packaging in /usr/local/lib/python3.10/dist-packages (from snowflake-connector-python<4.0.0,>=3.10.0->snowflake-snowpark-python) (24.1)\n",
            "Requirement already satisfied: charset-normalizer<4,>=2 in /usr/local/lib/python3.10/dist-packages (from snowflake-connector-python<4.0.0,>=3.10.0->snowflake-snowpark-python) (3.4.0)\n",
            "Requirement already satisfied: idna<4,>=2.5 in /usr/local/lib/python3.10/dist-packages (from snowflake-connector-python<4.0.0,>=3.10.0->snowflake-snowpark-python) (3.10)\n",
            "Requirement already satisfied: certifi>=2017.4.17 in /usr/local/lib/python3.10/dist-packages (from snowflake-connector-python<4.0.0,>=3.10.0->snowflake-snowpark-python) (2024.8.30)\n",
            "Requirement already satisfied: filelock<4,>=3.5 in /usr/local/lib/python3.10/dist-packages (from snowflake-connector-python<4.0.0,>=3.10.0->snowflake-snowpark-python) (3.16.1)\n",
            "Requirement already satisfied: sortedcontainers>=2.4.0 in /usr/local/lib/python3.10/dist-packages (from snowflake-connector-python<4.0.0,>=3.10.0->snowflake-snowpark-python) (2.4.0)\n",
            "Requirement already satisfied: platformdirs<5.0.0,>=2.6.0 in /usr/local/lib/python3.10/dist-packages (from snowflake-connector-python<4.0.0,>=3.10.0->snowflake-snowpark-python) (4.3.6)\n",
            "Requirement already satisfied: tomlkit in /usr/local/lib/python3.10/dist-packages (from snowflake-connector-python<4.0.0,>=3.10.0->snowflake-snowpark-python) (0.13.2)\n",
            "Requirement already satisfied: pycparser in /usr/local/lib/python3.10/dist-packages (from cffi<2.0.0,>=1.9->snowflake-connector-python<4.0.0,>=3.10.0->snowflake-snowpark-python) (2.22)\n",
            "Requirement already satisfied: urllib3<3,>=1.21.1 in /usr/local/lib/python3.10/dist-packages (from requests<3.0.0->snowflake-connector-python<4.0.0,>=3.10.0->snowflake-snowpark-python) (2.2.3)\n"
          ]
        }
      ]
    },
    {
      "cell_type": "code",
      "source": [
        "!pip install --upgrade pip"
      ],
      "metadata": {
        "collapsed": true,
        "id": "8C9kTWlsy11c"
      },
      "execution_count": null,
      "outputs": []
    },
    {
      "cell_type": "code",
      "source": [
        "from google.colab import userdata\n"
      ],
      "metadata": {
        "id": "Q9alqe6jmhoj"
      },
      "execution_count": null,
      "outputs": []
    },
    {
      "cell_type": "code",
      "source": [
        "def snowpark_sesion_create():\n",
        "  account=userdata.get('account')\n",
        "  user=userdata.get('user')\n",
        "  password=userdata.get('password')\n",
        "  role=userdata.get('role')\n",
        "\n",
        "\n",
        "  connection_params={\n",
        "      \"account\":account,\n",
        "      \"user\": user,\n",
        "      \"password\": password,\n",
        "      \"role\": role\n",
        "  }\n",
        "  session = Session.builder.configs(connection_params).create()\n",
        "  return session"
      ],
      "metadata": {
        "id": "BEAi2E-wiX6n"
      },
      "execution_count": null,
      "outputs": []
    },
    {
      "cell_type": "code",
      "source": [
        "demo_session = snowpark_sesion_create()"
      ],
      "metadata": {
        "collapsed": true,
        "id": "SGtiKKmklzaL"
      },
      "execution_count": null,
      "outputs": []
    },
    {
      "cell_type": "code",
      "source": [
        "df=demo_session.sql('select * from snowflake_sample_data.tpch_sf10.lineitem limit 100')"
      ],
      "metadata": {
        "id": "f-UCMxisVfgT"
      },
      "execution_count": null,
      "outputs": []
    },
    {
      "cell_type": "code",
      "source": [
        "df.show()"
      ],
      "metadata": {
        "colab": {
          "base_uri": "https://localhost:8080/"
        },
        "id": "oNCojxHtWXBS",
        "outputId": "9edd5d09-bfcd-46de-fb20-c06c2bbcc3f1"
      },
      "execution_count": null,
      "outputs": [
        {
          "output_type": "stream",
          "name": "stdout",
          "text": [
            "-------------------------------------------------------------------------------------------------------------------------------------------------------------------------------------------------------------------------------------------------------------------------------------------\n",
            "|\"L_ORDERKEY\"  |\"L_PARTKEY\"  |\"L_SUPPKEY\"  |\"L_LINENUMBER\"  |\"L_QUANTITY\"  |\"L_EXTENDEDPRICE\"  |\"L_DISCOUNT\"  |\"L_TAX\"  |\"L_RETURNFLAG\"  |\"L_LINESTATUS\"  |\"L_SHIPDATE\"  |\"L_COMMITDATE\"  |\"L_RECEIPTDATE\"  |\"L_SHIPINSTRUCT\"   |\"L_SHIPMODE\"  |\"L_COMMENT\"                               |\n",
            "-------------------------------------------------------------------------------------------------------------------------------------------------------------------------------------------------------------------------------------------------------------------------------------------\n",
            "|6600001       |1267154      |67155        |1               |23.00         |25785.07           |0.08          |0.06     |N               |O               |1996-05-29    |1996-05-12      |1996-06-15       |DELIVER IN PERSON  |MAIL          |ns among the sly                          |\n",
            "|6600001       |1042915      |92936        |2               |21.00         |39015.06           |0.08          |0.08     |N               |O               |1996-03-09    |1996-04-16      |1996-04-08       |DELIVER IN PERSON  |RAIL          |le blithely al                            |\n",
            "|6600002       |152055       |27059        |1               |17.00         |18819.85           |0.03          |0.01     |N               |O               |1996-05-15    |1996-06-17      |1996-05-20       |NONE               |RAIL          |yly bold excuses detect                   |\n",
            "|6600002       |1587885      |37916        |2               |28.00         |55238.68           |0.07          |0.06     |N               |O               |1996-04-19    |1996-05-04      |1996-04-23       |NONE               |AIR           |s wake slyly around the pendi             |\n",
            "|6600002       |1575566      |50612        |3               |13.00         |21339.37           |0.07          |0.00     |N               |O               |1996-07-15    |1996-05-02      |1996-08-02       |COLLECT COD        |REG AIR       |es promise. slyly bold deposits use ac    |\n",
            "|6600002       |533147       |8163         |4               |24.00         |28322.88           |0.10          |0.07     |N               |O               |1996-05-19    |1996-06-11      |1996-05-24       |DELIVER IN PERSON  |FOB           |posits integrate                          |\n",
            "|6600002       |588998       |64014        |5               |6.00          |12521.82           |0.08          |0.00     |N               |O               |1996-04-04    |1996-06-16      |1996-04-20       |COLLECT COD        |RAIL          |regular deposits lose slyly. pending ins  |\n",
            "|6600002       |1283571      |83572        |6               |48.00         |74616.48           |0.01          |0.05     |N               |O               |1996-05-31    |1996-05-29      |1996-06-01       |NONE               |SHIP          |y unusual multiplier                      |\n",
            "|6600002       |962706       |87716        |7               |32.00         |56597.12           |0.03          |0.08     |N               |O               |1996-04-16    |1996-05-02      |1996-05-07       |DELIVER IN PERSON  |TRUCK         |ely pending deposits. blithely            |\n",
            "|6600003       |194672       |69676        |1               |41.00         |72433.47           |0.03          |0.01     |R               |F               |1995-04-25    |1995-06-11      |1995-04-30       |TAKE BACK RETURN   |AIR           |blithely even excuses. furiously e        |\n",
            "-------------------------------------------------------------------------------------------------------------------------------------------------------------------------------------------------------------------------------------------------------------------------------------------\n",
            "\n"
          ]
        }
      ]
    },
    {
      "cell_type": "code",
      "source": [
        "df.collect()"
      ],
      "metadata": {
        "id": "1XCc9RBBWjNy"
      },
      "execution_count": null,
      "outputs": []
    },
    {
      "cell_type": "code",
      "source": [
        "#point the session to snowflake_sample_data database\n",
        "demo_session.use_database('snowflake_sample_data')\n",
        "#point session to the tpch_sf10 schema\n",
        "demo_session.use_schema('tpch_sf10')"
      ],
      "metadata": {
        "id": "FwykomQYXKSn"
      },
      "execution_count": null,
      "outputs": []
    },
    {
      "cell_type": "code",
      "source": [
        "#set the table to lineitem\n",
        "df=demo_session.table('lineitem')\n",
        "\n",
        "#filter L_SHIPDATE to just dates in 1997\n",
        "df=df.select('L_SHIPDATE',\n",
        "             'L_EXTENDEDPRICE',\n",
        "             'L_SHIPMODE',\n",
        "             'L_QUANTITY',\n",
        "             'L_DISCOUNT'\n",
        "             ).filter(F.col('L_SHIPDATE').between(date(1997,1,1),date(1997,12,31)))"
      ],
      "metadata": {
        "id": "g07zsu6eXl13"
      },
      "execution_count": null,
      "outputs": []
    },
    {
      "cell_type": "code",
      "source": [
        "#show the result\n",
        "df.show()"
      ],
      "metadata": {
        "colab": {
          "base_uri": "https://localhost:8080/"
        },
        "id": "wJTZvBMmZBNH",
        "outputId": "0cb0c068-ae50-4f6e-8c9a-69299cb293e3"
      },
      "execution_count": null,
      "outputs": [
        {
          "output_type": "stream",
          "name": "stdout",
          "text": [
            "---------------------------------------------------------------------------------\n",
            "|\"L_SHIPDATE\"  |\"L_EXTENDEDPRICE\"  |\"L_SHIPMODE\"  |\"L_QUANTITY\"  |\"L_DISCOUNT\"  |\n",
            "---------------------------------------------------------------------------------\n",
            "|1997-04-30    |57804.60           |SHIP          |42.00         |0.08          |\n",
            "|1997-06-21    |51600.64           |SHIP          |32.00         |0.06          |\n",
            "|1997-05-31    |70673.82           |MAIL          |42.00         |0.10          |\n",
            "|1997-07-14    |50614.06           |FOB           |49.00         |0.08          |\n",
            "|1997-06-26    |77449.89           |MAIL          |49.00         |0.01          |\n",
            "|1997-05-29    |58191.30           |MAIL          |45.00         |0.08          |\n",
            "|1997-05-23    |61273.86           |AIR           |38.00         |0.06          |\n",
            "|1997-08-06    |1744.63            |REG AIR       |1.00          |0.04          |\n",
            "|1997-07-05    |65080.07           |MAIL          |43.00         |0.01          |\n",
            "|1997-04-06    |15455.72           |RAIL          |14.00         |0.02          |\n",
            "---------------------------------------------------------------------------------\n",
            "\n"
          ]
        }
      ]
    },
    {
      "cell_type": "code",
      "source": [
        "#create a TOTAL_REVENUE column which is (L_EXTENDEDPRICE-(L_EXTENDEDPRICE*L_DISCOUNT))*L_QUNATITY\n",
        "df=df.with_column('REVENUE',\n",
        "                   (F.col('L_EXTENDEDPRICE')-(F.col('L_EXTENDEDPRICE')*F.col('L_DISCOUNT'))) * F.col('L_QUANTITY'))"
      ],
      "metadata": {
        "id": "xU--dZEyZQ2K"
      },
      "execution_count": null,
      "outputs": []
    },
    {
      "cell_type": "code",
      "source": [
        "#show the result\n",
        "df.show()"
      ],
      "metadata": {
        "colab": {
          "base_uri": "https://localhost:8080/"
        },
        "id": "HsK2CDvrZ-M0",
        "outputId": "1977858d-d194-4849-e745-2ae89d5dd1f5"
      },
      "execution_count": null,
      "outputs": [
        {
          "output_type": "stream",
          "name": "stdout",
          "text": [
            "--------------------------------------------------------------------------------------------------\n",
            "|\"L_SHIPDATE\"  |\"L_EXTENDEDPRICE\"  |\"L_SHIPMODE\"  |\"L_QUANTITY\"  |\"L_DISCOUNT\"  |\"REVENUE\"       |\n",
            "--------------------------------------------------------------------------------------------------\n",
            "|1997-04-30    |57804.60           |SHIP          |42.00         |0.08          |2233569.744000  |\n",
            "|1997-06-21    |51600.64           |SHIP          |32.00         |0.06          |1552147.251200  |\n",
            "|1997-05-31    |70673.82           |MAIL          |42.00         |0.10          |2671470.396000  |\n",
            "|1997-07-14    |50614.06           |FOB           |49.00         |0.08          |2281681.824800  |\n",
            "|1997-06-26    |77449.89           |MAIL          |49.00         |0.01          |3757094.163900  |\n",
            "|1997-05-29    |58191.30           |MAIL          |45.00         |0.08          |2409119.820000  |\n",
            "|1997-05-23    |61273.86           |AIR           |38.00         |0.06          |2188702.279200  |\n",
            "|1997-08-06    |1744.63            |REG AIR       |1.00          |0.04          |1674.844800     |\n",
            "|1997-07-05    |65080.07           |MAIL          |43.00         |0.01          |2770458.579900  |\n",
            "|1997-04-06    |15455.72           |RAIL          |14.00         |0.02          |212052.478400   |\n",
            "--------------------------------------------------------------------------------------------------\n",
            "\n"
          ]
        }
      ]
    },
    {
      "cell_type": "code",
      "source": [
        "#create a new Df called total1997 which groups by L_SHIPMODE and gives us the total revenue by ship mode\n",
        "total1997=df.group_by('L_SHIPMODE').agg(F.sum('REVENUE').alias('TOTAL_REVENUE'))"
      ],
      "metadata": {
        "id": "aljLhKjIaD1Q"
      },
      "execution_count": null,
      "outputs": []
    },
    {
      "cell_type": "code",
      "source": [
        "#show the result\n",
        "total1997.show()"
      ],
      "metadata": {
        "colab": {
          "base_uri": "https://localhost:8080/"
        },
        "id": "2wWcVrNMbYSK",
        "outputId": "d06cec74-aa12-4703-8fe9-8e92c62800d3"
      },
      "execution_count": null,
      "outputs": [
        {
          "output_type": "stream",
          "name": "stdout",
          "text": [
            "---------------------------------------\n",
            "|\"L_SHIPMODE\"  |\"TOTAL_REVENUE\"       |\n",
            "---------------------------------------\n",
            "|AIR           |1588489012314.814700  |\n",
            "|TRUCK         |1590733688302.036700  |\n",
            "|SHIP          |1587705642771.441000  |\n",
            "|MAIL          |1589584697330.409300  |\n",
            "|RAIL          |1593265749227.381000  |\n",
            "|FOB           |1588274810649.676300  |\n",
            "|REG AIR       |1588413005265.937100  |\n",
            "---------------------------------------\n",
            "\n"
          ]
        }
      ]
    },
    {
      "cell_type": "code",
      "source": [
        "df2=demo_session.table('lineitem')\n",
        "\n",
        "#filter L_SHIPDATE to just dates in 1998\n",
        "df2=df2.select('L_SHIPDATE',\n",
        "             'L_EXTENDEDPRICE',\n",
        "             'L_SHIPMODE',\n",
        "             'L_QUANTITY',\n",
        "             'L_DISCOUNT'\n",
        "             ).filter(F.col('L_SHIPDATE').between(date(1998,1,1),date(1998,12,31)))\n",
        "\n",
        "df2=df2.with_column('REVENUE',\n",
        "                   (F.col('L_EXTENDEDPRICE')-(F.col('L_EXTENDEDPRICE')*F.col('L_DISCOUNT'))) * F.col('L_QUANTITY'))\n",
        "\n",
        "\n",
        "#create a new Df called total1998 which groups by L_SHIPMODE and gives us the total revenue by ship mode\n",
        "total1998=df2.group_by('L_SHIPMODE').agg(F.sum('REVENUE').alias('TOTAL_REVENUE'))"
      ],
      "metadata": {
        "id": "e2VRyqkGbeQh"
      },
      "execution_count": null,
      "outputs": []
    },
    {
      "cell_type": "code",
      "source": [
        "#show the result\n",
        "total1998=total1998.with_column_renamed(F.col('TOTAL_REVENUE'),'TOTAL_REVENUE_1998')\n",
        "total1998.show()"
      ],
      "metadata": {
        "colab": {
          "base_uri": "https://localhost:8080/"
        },
        "id": "DLXqtGuEcNPk",
        "outputId": "a34e4707-04ae-450f-b67b-2793ddd40d63"
      },
      "execution_count": null,
      "outputs": [
        {
          "output_type": "stream",
          "name": "stdout",
          "text": [
            "---------------------------------------\n",
            "|\"L_SHIPMODE\"  |\"TOTAL_REVENUE_1998\"  |\n",
            "---------------------------------------\n",
            "|TRUCK         |1197327971050.476000  |\n",
            "|FOB           |1192940262362.108000  |\n",
            "|SHIP          |1198711220773.695500  |\n",
            "|RAIL          |1196094347242.170000  |\n",
            "|MAIL          |1198424237452.120300  |\n",
            "|AIR           |1198501334545.354000  |\n",
            "|REG AIR       |1197951763139.771600  |\n",
            "---------------------------------------\n",
            "\n"
          ]
        }
      ]
    },
    {
      "cell_type": "code",
      "source": [
        "#Rename the column TOTAL_REVENUE in total1997 to TOTAL_REVENUE_1997\n",
        "total1997=total1997.with_column_renamed(F.col('TOTAL_REVENUE'),'TOTAL_REVENUE_1997')"
      ],
      "metadata": {
        "id": "ss631f3ZdNbZ"
      },
      "execution_count": null,
      "outputs": []
    },
    {
      "cell_type": "code",
      "source": [
        "#join the two dataframes\n",
        "total1997.join(total1998,total1997['L_SHIPMODE']==total1998['L_SHIPMODE']).show()"
      ],
      "metadata": {
        "colab": {
          "base_uri": "https://localhost:8080/"
        },
        "id": "r4gagy10dFuE",
        "outputId": "d13884f7-de19-4eee-a337-6a567d167085"
      },
      "execution_count": null,
      "outputs": [
        {
          "output_type": "stream",
          "name": "stdout",
          "text": [
            "-----------------------------------------------------------------------------------------------\n",
            "|\"l_3pyw_L_SHIPMODE\"  |\"l_3pyw_TOTAL_REVENUE\"  |\"r_ugls_L_SHIPMODE\"  |\"r_ugls_TOTAL_REVENUE\"  |\n",
            "-----------------------------------------------------------------------------------------------\n",
            "|SHIP                 |1587705642771.441000    |SHIP                 |1198711220773.695500    |\n",
            "|MAIL                 |1589584697330.409300    |MAIL                 |1198424237452.120300    |\n",
            "|RAIL                 |1593265749227.381000    |RAIL                 |1196094347242.170000    |\n",
            "|TRUCK                |1590733688302.036700    |TRUCK                |1197327971050.476000    |\n",
            "|AIR                  |1588489012314.814700    |AIR                  |1198501334545.354000    |\n",
            "|FOB                  |1588274810649.676300    |FOB                  |1192940262362.108000    |\n",
            "|REG AIR              |1588413005265.937100    |REG AIR              |1197951763139.771600    |\n",
            "-----------------------------------------------------------------------------------------------\n",
            "\n"
          ]
        }
      ]
    },
    {
      "cell_type": "code",
      "source": [
        "#join the two dataframes\n",
        "joined_dfs=total1997.join(total1998,total1997['L_SHIPMODE']==total1998['L_SHIPMODE']).select(\n",
        "    total1997.col('L_SHIPMODE').alias('L_SHIPMODE'),\n",
        "    total1997.col('TOTAL_REVENUE_1997'),\n",
        "    total1998.col('TOTAL_REVENUE_1998')\n",
        "    )"
      ],
      "metadata": {
        "id": "EHXGMCPoeVPS"
      },
      "execution_count": null,
      "outputs": []
    },
    {
      "cell_type": "code",
      "source": [
        "#create a coulmn that puts the two totals in an array\n",
        "#create a column that adds a comment specifying who created the logic\n",
        "#create a column that says that the trust level of REG AIR is 40% and , for all other ship modes is 100%\n",
        "joined_dfs=joined_dfs.with_column(\n",
        "    'TOTALS',\n",
        "    F.array_construct(F.col('TOTAL_REVENUE_1997'),F.col('TOTAL_REVENUE_1998'))\n",
        ").with_column(\n",
        "    'COMMENT',\n",
        "    F.concat(F.lit(\"Logic was created by \"),F.current_user())\n",
        ").with_column(\n",
        "    'TRUST_LEVEL',\n",
        "    F.when(F.col('L_SHIPMODE')==\"REG AIR\",0.4).\n",
        "    otherwise(1)\n",
        ")"
      ],
      "metadata": {
        "id": "KzTIU05mhjNK"
      },
      "execution_count": null,
      "outputs": []
    },
    {
      "cell_type": "code",
      "source": [
        "#Drop columns TOTAL_REVENUE_1997 and TOTAL_REVENUE_1998\n",
        "joined_dfs=joined_dfs.drop('TOTAL_REVENUE_1997','TOTAL_REVENUE_1998')"
      ],
      "metadata": {
        "id": "78tDlRDSnBpU"
      },
      "execution_count": null,
      "outputs": []
    },
    {
      "cell_type": "code",
      "source": [
        "#show the result\n",
        "joined_dfs.show()"
      ],
      "metadata": {
        "colab": {
          "base_uri": "https://localhost:8080/"
        },
        "id": "U6c1fG4nnSb0",
        "outputId": "c6ad0568-ebff-46ce-d84d-2cd912c21a5f"
      },
      "execution_count": null,
      "outputs": [
        {
          "output_type": "stream",
          "name": "stdout",
          "text": [
            "------------------------------------------------------------------------------------------\n",
            "|\"L_SHIPMODE\"  |\"TOTALS\"               |\"COMMENT\"                        |\"TRUST_LEVEL\"  |\n",
            "------------------------------------------------------------------------------------------\n",
            "|AIR           |[                      |Logic was created by RAHITYA137  |1.0            |\n",
            "|              |  1588489012314.8147,  |                                 |               |\n",
            "|              |  1198501334545.354    |                                 |               |\n",
            "|              |]                      |                                 |               |\n",
            "|SHIP          |[                      |Logic was created by RAHITYA137  |1.0            |\n",
            "|              |  1587705642771.441,   |                                 |               |\n",
            "|              |  1198711220773.6955   |                                 |               |\n",
            "|              |]                      |                                 |               |\n",
            "|RAIL          |[                      |Logic was created by RAHITYA137  |1.0            |\n",
            "|              |  1593265749227.381,   |                                 |               |\n",
            "|              |  1196094347242.17     |                                 |               |\n",
            "|              |]                      |                                 |               |\n",
            "|MAIL          |[                      |Logic was created by RAHITYA137  |1.0            |\n",
            "|              |  1589584697330.4093,  |                                 |               |\n",
            "|              |  1198424237452.1203   |                                 |               |\n",
            "|              |]                      |                                 |               |\n",
            "|TRUCK         |[                      |Logic was created by RAHITYA137  |1.0            |\n",
            "|              |  1590733688302.0367,  |                                 |               |\n",
            "|              |  1197327971050.476    |                                 |               |\n",
            "|              |]                      |                                 |               |\n",
            "|FOB           |[                      |Logic was created by RAHITYA137  |1.0            |\n",
            "|              |  1588274810649.6763,  |                                 |               |\n",
            "|              |  1192940262362.108    |                                 |               |\n",
            "|              |]                      |                                 |               |\n",
            "|REG AIR       |[                      |Logic was created by RAHITYA137  |0.4            |\n",
            "|              |  1588413005265.9371,  |                                 |               |\n",
            "|              |  1197951763139.7716   |                                 |               |\n",
            "|              |]                      |                                 |               |\n",
            "------------------------------------------------------------------------------------------\n",
            "\n"
          ]
        }
      ]
    },
    {
      "cell_type": "code",
      "source": [
        "#close the session\n",
        "demo_session.close()"
      ],
      "metadata": {
        "id": "RvM6t6AgnsxN"
      },
      "execution_count": null,
      "outputs": []
    }
  ]
}